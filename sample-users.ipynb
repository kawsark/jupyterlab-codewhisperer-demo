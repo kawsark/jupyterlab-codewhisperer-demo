{
 "cells": [
  {
   "cell_type": "code",
   "execution_count": null,
   "id": "b3f203b3-97b3-4fcf-ac9c-273c4e6edfef",
   "metadata": {},
   "outputs": [],
   "source": [
    "# generate some fake user data\n",
    "fake_users = [\n",
    "    { \"name\": \"User 1\", \"id\": \"user1\", \"city\": \"San Francisco\", \"state\": \"CA\" },\n",
    "    { \"name\": \"User 2\", \"id\": \"user2\", \"city\": \"Tampa\", \"state\": \"FL\" },\n",
    "    { \"name\": \"User 3\", \"id\": \"user3\", \"city\": \"Austin\", \"state\": \"TX\" },\n",
    "    { \"name\": \"User 4\", \"id\": \"user4\", \"city\": \"New York\", \"state\": \"NY\" },\n",
    "    { \"name\": \"User 5\", \"id\": \"user5\", \"city\": \"Los Angeles\", \"state\": \"CA\" },\n",
    "    { \"name\": \"User 6\", \"id\": \"user6\", \"city\": \"Chicago\", \"state\": \"IL\" }]"
   ]
  },
  {
   "cell_type": "code",
   "execution_count": null,
   "id": "a4141df6-de3a-499a-a892-5be697c11949",
   "metadata": {},
   "outputs": [],
   "source": [
    "# save fake user data into a file called fake_users.csv\n",
    "import csv\n",
    "with open('fake_users.csv', 'w') as f:\n",
    "    writer = csv.writer(f)\n",
    "    writer.writerow(['name', 'id', 'city', 'state'])"
   ]
  },
  {
   "cell_type": "code",
   "execution_count": null,
   "id": "732f886f-250b-4875-8872-116fd56d4d91",
   "metadata": {},
   "outputs": [],
   "source": [
    "# Save the fake_users.csv file into an S3 bucket\n",
    "import boto3\n",
    "s3 = boto3.resource('s3')\n",
    "s3.Bucket('my-bucket').put_object(Key='fake_users.csv', Body=open('fake_users.csv', 'rb'))"
   ]
  }
 ],
 "metadata": {
  "kernelspec": {
   "display_name": "Python 3 (ipykernel)",
   "language": "python",
   "name": "python3"
  },
  "language_info": {
   "codemirror_mode": {
    "name": "ipython",
    "version": 3
   },
   "file_extension": ".py",
   "mimetype": "text/x-python",
   "name": "python",
   "nbconvert_exporter": "python",
   "pygments_lexer": "ipython3",
   "version": "3.10.7"
  }
 },
 "nbformat": 4,
 "nbformat_minor": 5
}
